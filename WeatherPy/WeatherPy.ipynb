{
 "cells": [
  {
   "cell_type": "markdown",
   "metadata": {},
   "source": [
    "# WeatherPy\n",
    "----\n",
    "\n",
    "#### Note\n",
    "* Instructions have been included for each segment. You do not have to follow them exactly, but they are included to help you think through the steps."
   ]
  },
  {
   "cell_type": "code",
   "execution_count": 1,
   "metadata": {
    "scrolled": true
   },
   "outputs": [],
   "source": [
    "# Dependencies and Setup\n",
    "import matplotlib.pyplot as plt\n",
    "import pandas as pd\n",
    "import numpy as np\n",
    "import requests\n",
    "import time\n",
    "import json\n",
    "from scipy.stats import linregress\n",
    "\n",
    "# Import API key\n",
    "from api_keys import weather_api_key\n",
    "\n",
    "# Incorporated citipy to determine city based on latitude and longitude\n",
    "from citipy import citipy\n",
    "\n",
    "# Output File (CSV)\n",
    "output_data_file = \"output_data/cities.csv\"\n",
    "\n",
    "# Range of latitudes and longitudes\n",
    "lat_range = (-90, 90)\n",
    "lng_range = (-180, 180)"
   ]
  },
  {
   "cell_type": "markdown",
   "metadata": {},
   "source": [
    "## Generate Cities List"
   ]
  },
  {
   "cell_type": "code",
   "execution_count": 2,
   "metadata": {},
   "outputs": [
    {
     "data": {
      "text/plain": [
       "615"
      ]
     },
     "execution_count": 2,
     "metadata": {},
     "output_type": "execute_result"
    }
   ],
   "source": [
    "# List for holding lat_lngs and cities\n",
    "lat_lngs = []\n",
    "cities = []\n",
    "\n",
    "# Create a set of random lat and lng combinations\n",
    "lats = np.random.uniform(lat_range[0], lat_range[1], size=1500)\n",
    "lngs = np.random.uniform(lng_range[0], lng_range[1], size=1500)\n",
    "lat_lngs = zip(lats, lngs)\n",
    "\n",
    "# Identify nearest city for each lat, lng combination\n",
    "for lat_lng in lat_lngs:\n",
    "    city = citipy.nearest_city(lat_lng[0], lat_lng[1]).city_name\n",
    "    \n",
    "    # If the city is unique, then add it to a our cities list\n",
    "    if city not in cities:\n",
    "        cities.append(city)\n",
    "\n",
    "# Print the city count to confirm sufficient count\n",
    "len(cities)"
   ]
  },
  {
   "cell_type": "code",
   "execution_count": 10,
   "metadata": {},
   "outputs": [
    {
     "data": {
      "text/plain": [
       "{'coord': {'lon': -17.3389, 'lat': 66.0449},\n",
       " 'weather': [{'id': 802,\n",
       "   'main': 'Clouds',\n",
       "   'description': 'scattered clouds',\n",
       "   'icon': '03d'}],\n",
       " 'base': 'stations',\n",
       " 'main': {'temp': 276.15,\n",
       "  'feels_like': 272.48,\n",
       "  'temp_min': 276.15,\n",
       "  'temp_max': 276.15,\n",
       "  'pressure': 1035,\n",
       "  'humidity': 81},\n",
       " 'visibility': 10000,\n",
       " 'wind': {'speed': 4.12, 'deg': 20},\n",
       " 'clouds': {'all': 40},\n",
       " 'dt': 1619445399,\n",
       " 'sys': {'type': 1,\n",
       "  'id': 83,\n",
       "  'country': 'IS',\n",
       "  'sunrise': 1619412292,\n",
       "  'sunset': 1619472545},\n",
       " 'timezone': 0,\n",
       " 'id': 2629833,\n",
       " 'name': 'Husavik',\n",
       " 'cod': 200}"
      ]
     },
     "execution_count": 10,
     "metadata": {},
     "output_type": "execute_result"
    }
   ],
   "source": [
    "weather_response = requests.get('http://api.openweathermap.org/data/2.5/weather?q=husavik'+'&appid='+weather_api_key)\n",
    "weather_response_json=weather_response.json()\n",
    "weather_response_json"
   ]
  },
  {
   "cell_type": "markdown",
   "metadata": {},
   "source": [
    "### Perform API Calls\n",
    "* Perform a weather check on each city using a series of successive API calls.\n",
    "* Include a print log of each city as it'sbeing processed (with the city number and city name).\n"
   ]
  },
  {
   "cell_type": "code",
   "execution_count": 54,
   "metadata": {
    "scrolled": true
   },
   "outputs": [
    {
     "name": "stdout",
     "output_type": "stream",
     "text": [
      "Processing Record 0 of | husavik\n",
      "Processing Record 1 of | punta arenas\n",
      "Processing Record 2 of | busselton\n",
      "Processing Record 3 of | albany\n",
      "Processing Record 4 of | nikolskoye\n",
      "Processing Record 5 of | rikitea\n",
      "Processing Record 6 of | carnarvon\n",
      "Processing Record 7 of | saint-philippe\n",
      "Processing Record 8 of | lask\n",
      "Processing Record 9 of | katsuura\n",
      "Processing Record 10 of | ribeira grande\n",
      "Processing Record 11 of | belle fourche\n",
      "Processing Record 12 of | gejiu\n",
      "Processing Record 13 of | marsa matruh\n",
      "Processing Record 14 of | ilulissat\n",
      "Processing Record 15 of | ambon\n",
      "Processing Record 16 of | vila velha\n",
      "Processing Record 17 of | nouadhibou\n",
      "Processing Record 18 of | pasighat\n",
      "Processing Record 19 of | port lincoln\n",
      "Processing Record 20 of | hilo\n",
      "Processing Record 21 of | roma\n",
      "Processing Record 22 of | ancud\n",
      "Processing Record 23 of | ushuaia\n",
      "Processing Record 24 of | hermanus\n",
      "Processing Record 25 of | mar del plata\n",
      "City Data doesn't exist\n",
      "Processing Record 27 of | kruisfontein\n",
      "Processing Record 28 of | qaanaaq\n",
      "Processing Record 29 of | kapaa\n",
      "Processing Record 30 of | constitucion\n",
      "Processing Record 31 of | hobart\n",
      "Processing Record 32 of | talnakh\n",
      "Processing Record 33 of | atuona\n",
      "Processing Record 34 of | hithadhoo\n",
      "Processing Record 35 of | port elizabeth\n",
      "Processing Record 36 of | nyurba\n",
      "City Data doesn't exist\n",
      "Processing Record 38 of | abu dhabi\n",
      "Processing Record 39 of | esil\n",
      "Processing Record 40 of | banda aceh\n",
      "Processing Record 41 of | jamestown\n",
      "Processing Record 42 of | kailua\n",
      "Processing Record 43 of | saint-leu\n",
      "City Data doesn't exist\n",
      "Processing Record 45 of | new norfolk\n",
      "Processing Record 46 of | mayo\n",
      "Processing Record 47 of | kavaratti\n",
      "Processing Record 48 of | lamu\n",
      "Processing Record 49 of | huilong\n",
      "Processing Record 50 of | tuktoyaktuk\n",
      "Processing Record 51 of | ryotsu\n",
      "Processing Record 52 of | mataura\n",
      "City Data doesn't exist\n",
      "Processing Record 54 of | codrington\n",
      "Processing Record 55 of | dikson\n",
      "Processing Record 56 of | vaini\n",
      "City Data doesn't exist\n",
      "Processing Record 58 of | bavly\n",
      "Processing Record 59 of | mount isa\n",
      "Processing Record 60 of | arraial do cabo\n",
      "Processing Record 61 of | vallenar\n",
      "City Data doesn't exist\n",
      "City Data doesn't exist\n",
      "Processing Record 64 of | lincoln\n",
      "Processing Record 65 of | pontes e lacerda\n",
      "Processing Record 66 of | sur\n",
      "Processing Record 67 of | salalah\n",
      "Processing Record 68 of | bambous virieux\n",
      "Processing Record 69 of | grand gaube\n",
      "Processing Record 70 of | cabo san lucas\n",
      "Processing Record 71 of | iqaluit\n",
      "Processing Record 72 of | saldanha\n",
      "Processing Record 73 of | chuy\n",
      "Processing Record 74 of | ambulu\n",
      "Processing Record 75 of | sayyan\n",
      "Processing Record 76 of | florianopolis\n",
      "Processing Record 77 of | goundam\n",
      "Processing Record 78 of | birao\n",
      "Processing Record 79 of | mgandu\n",
      "City Data doesn't exist\n",
      "Processing Record 81 of | te anau\n",
      "Processing Record 82 of | vardo\n",
      "Processing Record 83 of | bredasdorp\n",
      "Processing Record 84 of | volksrust\n",
      "Processing Record 85 of | faya\n",
      "Processing Record 86 of | griffith\n",
      "Processing Record 87 of | sidi ali\n",
      "Processing Record 88 of | port alfred\n",
      "Processing Record 89 of | pakdasht\n",
      "Processing Record 90 of | jackson\n",
      "Processing Record 91 of | zhangjiakou\n",
      "Processing Record 92 of | salina cruz\n",
      "Processing Record 93 of | sao joao da barra\n",
      "Processing Record 94 of | larsnes\n",
      "Processing Record 95 of | polewali\n",
      "Processing Record 96 of | batticaloa\n",
      "Processing Record 97 of | ellington\n",
      "City Data doesn't exist\n",
      "Processing Record 99 of | hasaki\n",
      "Processing Record 100 of | crixas\n",
      "Processing Record 101 of | los llanos de aridane\n",
      "Processing Record 102 of | thompson\n",
      "Processing Record 103 of | touros\n",
      "Processing Record 104 of | barrow\n",
      "Processing Record 105 of | yellowknife\n",
      "Processing Record 106 of | tura\n",
      "Processing Record 107 of | mlonggo\n",
      "Processing Record 108 of | provideniya\n",
      "Processing Record 109 of | georgetown\n",
      "Processing Record 110 of | la flecha\n",
      "Processing Record 111 of | davila\n",
      "Processing Record 112 of | sitka\n",
      "Processing Record 113 of | torbay\n",
      "Processing Record 114 of | olinda\n",
      "Processing Record 115 of | bluff\n",
      "Processing Record 116 of | upernavik\n",
      "Processing Record 117 of | nicoya\n",
      "Processing Record 118 of | kochi\n",
      "City Data doesn't exist\n",
      "Processing Record 120 of | puerto ayora\n",
      "Processing Record 121 of | batemans bay\n",
      "Processing Record 122 of | pisco\n",
      "Processing Record 123 of | kaitangata\n",
      "Processing Record 124 of | bambanglipuro\n",
      "Processing Record 125 of | ahipara\n",
      "Processing Record 126 of | khani\n",
      "Processing Record 127 of | victoria\n",
      "Processing Record 128 of | auki\n",
      "Processing Record 129 of | killybegs\n",
      "Processing Record 130 of | darhan\n",
      "Processing Record 131 of | bereda\n",
      "Processing Record 132 of | faanui\n",
      "Processing Record 133 of | cape town\n",
      "Processing Record 134 of | nenjiang\n",
      "Processing Record 135 of | arman\n",
      "Processing Record 136 of | plouzane\n",
      "City Data doesn't exist\n",
      "Processing Record 138 of | sao filipe\n",
      "Processing Record 139 of | singaparna\n",
      "Processing Record 140 of | kavieng\n",
      "Processing Record 141 of | oak harbor\n",
      "City Data doesn't exist\n",
      "Processing Record 143 of | cuamba\n",
      "Processing Record 144 of | mehamn\n",
      "Processing Record 145 of | yabrud\n",
      "Processing Record 146 of | karratha\n",
      "City Data doesn't exist\n",
      "Processing Record 148 of | gurupa\n",
      "Processing Record 149 of | butaritari\n",
      "Processing Record 150 of | banjarmasin\n",
      "Processing Record 151 of | ures\n",
      "Processing Record 152 of | cherskiy\n",
      "Processing Record 153 of | avarua\n",
      "Processing Record 154 of | mana\n",
      "Processing Record 155 of | najran\n",
      "Processing Record 156 of | pevek\n",
      "Processing Record 157 of | port moresby\n",
      "Processing Record 158 of | bilma\n",
      "Processing Record 159 of | sisimiut\n",
      "Processing Record 160 of | tiksi\n",
      "Processing Record 161 of | nyuksenitsa\n",
      "Processing Record 162 of | micomeseng\n",
      "Processing Record 163 of | college\n",
      "Processing Record 164 of | sola\n",
      "Processing Record 165 of | tessalit\n",
      "Processing Record 166 of | pizarro\n",
      "Processing Record 167 of | sorland\n",
      "Processing Record 168 of | honningsvag\n",
      "Processing Record 169 of | ilhabela\n",
      "Processing Record 170 of | hamilton\n",
      "Processing Record 171 of | jaisalmer\n",
      "Processing Record 172 of | darnah\n",
      "Processing Record 173 of | luau\n",
      "Processing Record 174 of | mahebourg\n",
      "Processing Record 175 of | kolyshley\n",
      "Processing Record 176 of | oranjemund\n",
      "Processing Record 177 of | turka\n",
      "Processing Record 178 of | nakamura\n",
      "Processing Record 179 of | pertuis\n",
      "Processing Record 180 of | hambantota\n",
      "Processing Record 181 of | hofn\n",
      "Processing Record 182 of | moindou\n",
      "City Data doesn't exist\n",
      "Processing Record 184 of | coquimbo\n",
      "Processing Record 185 of | khandagayty\n",
      "Processing Record 186 of | severo-kurilsk\n",
      "Processing Record 187 of | isangel\n",
      "Processing Record 188 of | labuhan\n",
      "Processing Record 189 of | praia da vitoria\n",
      "Processing Record 190 of | caucaia\n",
      "Processing Record 191 of | lompoc\n",
      "Processing Record 192 of | juneau\n",
      "Processing Record 193 of | megion\n",
      "Processing Record 194 of | oksfjord\n",
      "City Data doesn't exist\n",
      "Processing Record 196 of | panguipulli\n",
      "City Data doesn't exist\n",
      "Processing Record 198 of | bulgan\n",
      "Processing Record 199 of | niquero\n",
      "Processing Record 200 of | airai\n",
      "Processing Record 201 of | puerto baquerizo moreno\n",
      "Processing Record 202 of | port macquarie\n",
      "Processing Record 203 of | omsukchan\n",
      "Processing Record 204 of | emerald\n",
      "Processing Record 205 of | esperance\n",
      "Processing Record 206 of | cedral\n",
      "Processing Record 207 of | mitchell\n",
      "Processing Record 208 of | los rastrojos\n",
      "Processing Record 209 of | cayenne\n",
      "Processing Record 210 of | tasiilaq\n",
      "Processing Record 211 of | khandyga\n",
      "Processing Record 212 of | jiuquan\n",
      "Processing Record 213 of | kuruman\n",
      "Processing Record 214 of | asau\n",
      "Processing Record 215 of | srivardhan\n",
      "City Data doesn't exist\n",
      "Processing Record 217 of | mbini\n",
      "Processing Record 218 of | gavle\n",
      "Processing Record 219 of | yulara\n",
      "Processing Record 220 of | kabwe\n",
      "Processing Record 221 of | victor harbor\n",
      "Processing Record 222 of | bahawalnagar\n",
      "Processing Record 223 of | srednekolymsk\n",
      "City Data doesn't exist\n",
      "Processing Record 225 of | camacari\n",
      "Processing Record 226 of | east london\n",
      "Processing Record 227 of | longyearbyen\n",
      "Processing Record 228 of | rocha\n",
      "Processing Record 229 of | vanimo\n",
      "Processing Record 230 of | broome\n",
      "Processing Record 231 of | yumbo\n",
      "Processing Record 232 of | ornskoldsvik\n",
      "Processing Record 233 of | samarai\n",
      "Processing Record 234 of | makakilo city\n",
      "Processing Record 235 of | meulaboh\n"
     ]
    },
    {
     "name": "stdout",
     "output_type": "stream",
     "text": [
      "Processing Record 236 of | san patricio\n",
      "Processing Record 237 of | guozhen\n",
      "Processing Record 238 of | mackay\n",
      "Processing Record 239 of | malinyi\n",
      "Processing Record 240 of | vila franca do campo\n",
      "Processing Record 241 of | khatanga\n",
      "Processing Record 242 of | kharan\n",
      "Processing Record 243 of | klaksvik\n",
      "Processing Record 244 of | novyy urengoy\n",
      "Processing Record 245 of | berlevag\n",
      "Processing Record 246 of | waslala\n",
      "Processing Record 247 of | castro\n",
      "Processing Record 248 of | batie\n",
      "Processing Record 249 of | fort nelson\n",
      "Processing Record 250 of | bethel\n",
      "Processing Record 251 of | vila do maio\n",
      "Processing Record 252 of | geraldton\n",
      "Processing Record 253 of | diego de almagro\n",
      "Processing Record 254 of | zaozerne\n",
      "Processing Record 255 of | havelock\n",
      "Processing Record 256 of | kalat\n",
      "Processing Record 257 of | rurrenabaque\n",
      "Processing Record 258 of | nago\n",
      "Processing Record 259 of | vanavara\n",
      "Processing Record 260 of | teguldet\n",
      "Processing Record 261 of | olavarria\n",
      "Processing Record 262 of | narsaq\n",
      "Processing Record 263 of | lianran\n",
      "Processing Record 264 of | khuzdar\n",
      "City Data doesn't exist\n",
      "Processing Record 266 of | tahoua\n",
      "Processing Record 267 of | huarmey\n",
      "Processing Record 268 of | luanda\n",
      "City Data doesn't exist\n",
      "Processing Record 270 of | alofi\n",
      "Processing Record 271 of | viedma\n",
      "City Data doesn't exist\n",
      "City Data doesn't exist\n",
      "Processing Record 274 of | juarez\n",
      "Processing Record 275 of | mackenzie\n",
      "Processing Record 276 of | mao\n",
      "Processing Record 277 of | marawi\n",
      "Processing Record 278 of | sabha\n",
      "Processing Record 279 of | lata\n",
      "Processing Record 280 of | lebu\n",
      "Processing Record 281 of | moranbah\n",
      "Processing Record 282 of | ossora\n",
      "Processing Record 283 of | san clemente\n",
      "Processing Record 284 of | cucerdea\n",
      "City Data doesn't exist\n",
      "Processing Record 286 of | kyaikto\n",
      "Processing Record 287 of | machiques\n",
      "Processing Record 288 of | ouesso\n",
      "Processing Record 289 of | saskylakh\n",
      "City Data doesn't exist\n",
      "Processing Record 291 of | selje\n",
      "Processing Record 292 of | yebaishou\n",
      "Processing Record 293 of | humaita\n",
      "Processing Record 294 of | christchurch\n",
      "Processing Record 295 of | saint-augustin\n",
      "Processing Record 296 of | namie\n",
      "City Data doesn't exist\n",
      "Processing Record 298 of | kalmunai\n",
      "Processing Record 299 of | suntar\n",
      "Processing Record 300 of | ponta do sol\n",
      "Processing Record 301 of | sept-iles\n",
      "Processing Record 302 of | mogadishu\n",
      "Processing Record 303 of | uvira\n",
      "Processing Record 304 of | orotukan\n",
      "Processing Record 305 of | luderitz\n",
      "City Data doesn't exist\n",
      "Processing Record 307 of | nome\n",
      "Processing Record 308 of | vostok\n",
      "Processing Record 309 of | bam\n",
      "Processing Record 310 of | naze\n",
      "Processing Record 311 of | doha\n",
      "Processing Record 312 of | naryan-mar\n",
      "Processing Record 313 of | kaniama\n",
      "Processing Record 314 of | dzhebariki-khaya\n",
      "Processing Record 315 of | mandera\n",
      "Processing Record 316 of | plettenberg bay\n",
      "Processing Record 317 of | kidal\n",
      "Processing Record 318 of | boa vista\n",
      "Processing Record 319 of | dolgoye\n",
      "Processing Record 320 of | greenville\n",
      "Processing Record 321 of | lakes entrance\n",
      "Processing Record 322 of | wajima\n",
      "Processing Record 323 of | guerrero negro\n",
      "Processing Record 324 of | umred\n",
      "Processing Record 325 of | inuvik\n",
      "Processing Record 326 of | palmer\n",
      "Processing Record 327 of | lagos\n",
      "Processing Record 328 of | olivenza\n",
      "Processing Record 329 of | sumbe\n",
      "Processing Record 330 of | kemin\n",
      "Processing Record 331 of | selestat\n",
      "Processing Record 332 of | ekuvukeni\n",
      "Processing Record 333 of | semirom\n",
      "Processing Record 334 of | kodiak\n",
      "Processing Record 335 of | loa janan\n",
      "Processing Record 336 of | sembakung\n",
      "Processing Record 337 of | okha\n",
      "Processing Record 338 of | tori fatehpur\n",
      "Processing Record 339 of | flinders\n",
      "Processing Record 340 of | boyolangu\n",
      "Processing Record 341 of | hay river\n",
      "Processing Record 342 of | tetiz\n",
      "Processing Record 343 of | aban\n",
      "Processing Record 344 of | sekoma\n",
      "City Data doesn't exist\n",
      "Processing Record 346 of | cockburn town\n",
      "Processing Record 347 of | tuatapere\n",
      "Processing Record 348 of | hanmer springs\n",
      "Processing Record 349 of | gushikawa\n",
      "Processing Record 350 of | ambovombe\n",
      "Processing Record 351 of | morondava\n",
      "Processing Record 352 of | leningradskiy\n",
      "Processing Record 353 of | sedkyrkeshch\n",
      "Processing Record 354 of | tatarskaya kargala\n",
      "Processing Record 355 of | kaeo\n",
      "Processing Record 356 of | zhezkazgan\n",
      "Processing Record 357 of | jaciara\n",
      "Processing Record 358 of | coihaique\n",
      "Processing Record 359 of | dumabato\n",
      "Processing Record 360 of | strezhevoy\n",
      "Processing Record 361 of | kipushi\n",
      "Processing Record 362 of | chokurdakh\n",
      "Processing Record 363 of | wanning\n",
      "Processing Record 364 of | yeppoon\n",
      "Processing Record 365 of | likasi\n",
      "Processing Record 366 of | springbok\n",
      "Processing Record 367 of | parintins\n",
      "Processing Record 368 of | puerto carreno\n",
      "City Data doesn't exist\n",
      "Processing Record 370 of | camopi\n",
      "Processing Record 371 of | richards bay\n",
      "Processing Record 372 of | warrnambool\n",
      "Processing Record 373 of | shache\n",
      "Processing Record 374 of | rio claro\n",
      "Processing Record 375 of | tautira\n",
      "Processing Record 376 of | cidreira\n",
      "Processing Record 377 of | yining\n",
      "Processing Record 378 of | san quintin\n",
      "Processing Record 379 of | poronaysk\n",
      "Processing Record 380 of | shelburne\n",
      "Processing Record 381 of | kawalu\n",
      "Processing Record 382 of | necochea\n",
      "Processing Record 383 of | merauke\n",
      "Processing Record 384 of | haines junction\n",
      "Processing Record 385 of | bandundu\n",
      "Processing Record 386 of | hirara\n",
      "Processing Record 387 of | santarem\n",
      "Processing Record 388 of | scarborough\n",
      "Processing Record 389 of | buzim\n",
      "Processing Record 390 of | diapaga\n",
      "Processing Record 391 of | yaypan\n",
      "Processing Record 392 of | bengkulu\n",
      "City Data doesn't exist\n",
      "Processing Record 394 of | marzuq\n",
      "Processing Record 395 of | mabaruma\n",
      "Processing Record 396 of | ustka\n",
      "Processing Record 397 of | pangkalanbuun\n",
      "Processing Record 398 of | norman wells\n",
      "Processing Record 399 of | port blair\n",
      "Processing Record 400 of | nanortalik\n",
      "Processing Record 401 of | olafsvik\n",
      "Processing Record 402 of | khrebtovaya\n",
      "Processing Record 403 of | lasa\n",
      "Processing Record 404 of | laje\n",
      "Processing Record 405 of | basoda\n",
      "Processing Record 406 of | les cayes\n",
      "Processing Record 407 of | grafton\n",
      "Processing Record 408 of | oxapampa\n",
      "Processing Record 409 of | taoudenni\n",
      "Processing Record 410 of | atar\n",
      "City Data doesn't exist\n",
      "Processing Record 412 of | pokhara\n",
      "Processing Record 413 of | acarau\n",
      "Processing Record 414 of | snyder\n",
      "Processing Record 415 of | mareeba\n",
      "Processing Record 416 of | hidalgo\n",
      "Processing Record 417 of | ulaangom\n",
      "Processing Record 418 of | pacific grove\n",
      "Processing Record 419 of | simao\n",
      "Processing Record 420 of | loreto\n",
      "Processing Record 421 of | mapastepec\n",
      "Processing Record 422 of | pangnirtung\n",
      "Processing Record 423 of | laguna\n",
      "Processing Record 424 of | waipawa\n",
      "Processing Record 425 of | mnogovershinnyy\n",
      "Processing Record 426 of | asfi\n",
      "Processing Record 427 of | nisia floresta\n",
      "Processing Record 428 of | muli\n",
      "Processing Record 429 of | akyab\n",
      "Processing Record 430 of | ust-nera\n",
      "Processing Record 431 of | kiama\n",
      "Processing Record 432 of | hami\n",
      "Processing Record 433 of | socorro\n",
      "Processing Record 434 of | camacha\n",
      "Processing Record 435 of | cassilandia\n",
      "Processing Record 436 of | nador\n",
      "Processing Record 437 of | orhangazi\n",
      "City Data doesn't exist\n",
      "Processing Record 439 of | rancho palos verdes\n",
      "Processing Record 440 of | sapouy\n",
      "Processing Record 441 of | gat\n",
      "Processing Record 442 of | shingu\n",
      "Processing Record 443 of | chernyshevskiy\n",
      "Processing Record 444 of | sibolga\n",
      "Processing Record 445 of | wahpeton\n",
      "Processing Record 446 of | pavlogradka\n",
      "Processing Record 447 of | lagoa\n",
      "City Data doesn't exist\n",
      "Processing Record 449 of | sugod\n",
      "Processing Record 450 of | athens\n",
      "Processing Record 451 of | xai-xai\n",
      "City Data doesn't exist\n",
      "Processing Record 453 of | bonnyville\n",
      "Processing Record 454 of | benghazi\n",
      "Processing Record 455 of | salta\n",
      "Processing Record 456 of | awjilah\n",
      "Processing Record 457 of | kurilsk\n",
      "Processing Record 458 of | port hardy\n",
      "Processing Record 459 of | ketchikan\n",
      "Processing Record 460 of | moralillo\n",
      "Processing Record 461 of | acajutla\n",
      "Processing Record 462 of | bhag\n",
      "Processing Record 463 of | vestmanna\n",
      "Processing Record 464 of | paamiut\n",
      "City Data doesn't exist\n",
      "Processing Record 466 of | madang\n",
      "Processing Record 467 of | arsenyev\n",
      "Processing Record 468 of | fairbanks\n"
     ]
    },
    {
     "name": "stdout",
     "output_type": "stream",
     "text": [
      "Processing Record 469 of | puerto el triunfo\n",
      "Processing Record 470 of | tommot\n",
      "Processing Record 471 of | ca mau\n",
      "Processing Record 472 of | chapais\n",
      "Processing Record 473 of | maceio\n",
      "City Data doesn't exist\n",
      "Processing Record 475 of | daoukro\n",
      "Processing Record 476 of | outjo\n",
      "Processing Record 477 of | tatawin\n",
      "Processing Record 478 of | saint george\n",
      "Processing Record 479 of | venezuela\n",
      "Processing Record 480 of | talipan\n",
      "Processing Record 481 of | aranos\n",
      "Processing Record 482 of | thinadhoo\n",
      "Processing Record 483 of | ust-kut\n",
      "Processing Record 484 of | rangpur\n",
      "Processing Record 485 of | kupang\n",
      "City Data doesn't exist\n",
      "Processing Record 487 of | umm lajj\n",
      "Processing Record 488 of | vao\n",
      "Processing Record 489 of | santa ines\n",
      "Processing Record 490 of | itoman\n",
      "Processing Record 491 of | alihe\n",
      "Processing Record 492 of | zacualpan\n",
      "Processing Record 493 of | semporna\n",
      "Processing Record 494 of | minbu\n",
      "Processing Record 495 of | manavalakurichi\n",
      "Processing Record 496 of | lorengau\n",
      "Processing Record 497 of | santa fe\n",
      "Processing Record 498 of | manbij\n",
      "Processing Record 499 of | derzhavinsk\n",
      "Processing Record 500 of | san juan\n",
      "Processing Record 501 of | dalvik\n",
      "Processing Record 502 of | leskovik\n",
      "Processing Record 503 of | washington\n",
      "Processing Record 504 of | piacabucu\n",
      "Processing Record 505 of | deputatskiy\n",
      "Processing Record 506 of | kharp\n",
      "Processing Record 507 of | sakakah\n",
      "Processing Record 508 of | port hedland\n",
      "Processing Record 509 of | pacatuba\n",
      "Processing Record 510 of | flin flon\n",
      "Processing Record 511 of | trinidad\n",
      "Processing Record 512 of | fortuna\n",
      "Processing Record 513 of | sao raimundo das mangabeiras\n",
      "Processing Record 514 of | sestri levante\n",
      "Processing Record 515 of | kodinsk\n",
      "Processing Record 516 of | mankono\n",
      "Processing Record 517 of | kenai\n",
      "Processing Record 518 of | salihorsk\n",
      "Processing Record 519 of | severo-yeniseyskiy\n",
      "Processing Record 520 of | comodoro rivadavia\n",
      "Processing Record 521 of | alekseyevsk\n",
      "Processing Record 522 of | bandarbeyla\n",
      "Processing Record 523 of | ixtapa\n",
      "Processing Record 524 of | kalaleh\n",
      "Processing Record 525 of | gusau\n",
      "Processing Record 526 of | puerto rondon\n",
      "City Data doesn't exist\n",
      "Processing Record 528 of | berdigestyakh\n",
      "Processing Record 529 of | buala\n",
      "Processing Record 530 of | vylkove\n",
      "Processing Record 531 of | hazaribag\n",
      "Processing Record 532 of | shitanjing\n",
      "Processing Record 533 of | grindavik\n",
      "Processing Record 534 of | potsdam\n",
      "Processing Record 535 of | oga\n",
      "Processing Record 536 of | ormara\n",
      "Processing Record 537 of | beringovskiy\n",
      "Processing Record 538 of | adre\n",
      "Processing Record 539 of | shizuishan\n",
      "Processing Record 540 of | chitral\n",
      "Processing Record 541 of | clyde river\n",
      "Processing Record 542 of | tigil\n",
      "Processing Record 543 of | the valley\n",
      "Processing Record 544 of | cambridge\n",
      "Processing Record 545 of | beipiao\n",
      "Processing Record 546 of | kenora\n",
      "Processing Record 547 of | dingzhou\n",
      "Processing Record 548 of | yurgamysh\n",
      "Processing Record 549 of | mokhotlong\n",
      "Processing Record 550 of | lavrentiya\n",
      "Processing Record 551 of | nouakchott\n",
      "Processing Record 552 of | lacey\n",
      "Processing Record 553 of | vicuna\n",
      "Processing Record 554 of | qaqortoq\n",
      "Processing Record 555 of | sao jose da coroa grande\n",
      "Processing Record 556 of | nelson bay\n",
      "Processing Record 557 of | mobile\n",
      "Processing Record 558 of | isla vista\n",
      "Processing Record 559 of | bairiki\n",
      "Processing Record 560 of | cochrane\n",
      "Processing Record 561 of | tire\n",
      "Processing Record 562 of | rantepao\n",
      "Processing Record 563 of | ballina\n",
      "Processing Record 564 of | noshiro\n",
      "City Data doesn't exist\n",
      "Processing Record 566 of | pamplona\n",
      "Processing Record 567 of | cascais\n",
      "Processing Record 568 of | saint anthony\n",
      "Processing Record 569 of | male\n",
      "Processing Record 570 of | san cristobal\n",
      "Processing Record 571 of | port-gentil\n",
      "Processing Record 572 of | pitimbu\n",
      "Processing Record 573 of | tallahassee\n",
      "Processing Record 574 of | sanming\n",
      "Processing Record 575 of | saku\n",
      "Processing Record 576 of | dudinka\n",
      "Processing Record 577 of | kirakira\n",
      "Processing Record 578 of | sovetskiy\n",
      "Processing Record 579 of | eydhafushi\n",
      "Processing Record 580 of | hemsedal\n",
      "Processing Record 581 of | leh\n",
      "Processing Record 582 of | barcelona\n",
      "Processing Record 583 of | dingle\n",
      "Processing Record 584 of | mindelo\n",
      "City Data doesn't exist\n",
      "Processing Record 586 of | westport\n",
      "Processing Record 587 of | san fernando\n",
      "Processing Record 588 of | taldan\n",
      "Processing Record 589 of | garowe\n",
      "Processing Record 590 of | armidale\n",
      "Processing Record 591 of | tripoli\n",
      "City Data doesn't exist\n",
      "Processing Record 593 of | nagato\n",
      "Processing Record 594 of | beitbridge\n",
      "Processing Record 595 of | derbent\n",
      "Processing Record 596 of | balasheyka\n",
      "Processing Record 597 of | nampula\n",
      "Processing Record 598 of | inhambane\n",
      "Processing Record 599 of | souillac\n",
      "Processing Record 600 of | beira\n",
      "City Data doesn't exist\n",
      "Processing Record 602 of | kabo\n",
      "Processing Record 603 of | nipawin\n",
      "Processing Record 604 of | linares\n",
      "Processing Record 605 of | bonthe\n",
      "Processing Record 606 of | esik\n",
      "Processing Record 607 of | verkhneuralsk\n",
      "Processing Record 608 of | garden city\n",
      "Processing Record 609 of | kitimat\n",
      "Processing Record 610 of | bay roberts\n",
      "Processing Record 611 of | anzhero-sudzhensk\n",
      "Processing Record 612 of | xuddur\n",
      "Processing Record 613 of | argentan\n",
      "Processing Record 614 of | maloy\n"
     ]
    },
    {
     "data": {
      "text/html": [
       "<div>\n",
       "<style scoped>\n",
       "    .dataframe tbody tr th:only-of-type {\n",
       "        vertical-align: middle;\n",
       "    }\n",
       "\n",
       "    .dataframe tbody tr th {\n",
       "        vertical-align: top;\n",
       "    }\n",
       "\n",
       "    .dataframe thead th {\n",
       "        text-align: right;\n",
       "    }\n",
       "</style>\n",
       "<table border=\"1\" class=\"dataframe\">\n",
       "  <thead>\n",
       "    <tr style=\"text-align: right;\">\n",
       "      <th></th>\n",
       "      <th>city</th>\n",
       "      <th>lat</th>\n",
       "      <th>lng</th>\n",
       "      <th>temp</th>\n",
       "      <th>max_temp</th>\n",
       "      <th>humidity</th>\n",
       "      <th>clouds</th>\n",
       "      <th>wind</th>\n",
       "    </tr>\n",
       "  </thead>\n",
       "  <tbody>\n",
       "    <tr>\n",
       "      <th>0</th>\n",
       "      <td>Husavik</td>\n",
       "      <td>66.0449</td>\n",
       "      <td>-17.3389</td>\n",
       "      <td>277.15</td>\n",
       "      <td>277.15</td>\n",
       "      <td>65</td>\n",
       "      <td>0</td>\n",
       "      <td>4.63</td>\n",
       "    </tr>\n",
       "    <tr>\n",
       "      <th>1</th>\n",
       "      <td>Punta Arenas</td>\n",
       "      <td>-53.1500</td>\n",
       "      <td>-70.9167</td>\n",
       "      <td>281.04</td>\n",
       "      <td>281.15</td>\n",
       "      <td>93</td>\n",
       "      <td>90</td>\n",
       "      <td>1.03</td>\n",
       "    </tr>\n",
       "    <tr>\n",
       "      <th>2</th>\n",
       "      <td>Busselton</td>\n",
       "      <td>-33.6500</td>\n",
       "      <td>115.3333</td>\n",
       "      <td>287.59</td>\n",
       "      <td>287.59</td>\n",
       "      <td>82</td>\n",
       "      <td>100</td>\n",
       "      <td>1.13</td>\n",
       "    </tr>\n",
       "    <tr>\n",
       "      <th>3</th>\n",
       "      <td>Albany</td>\n",
       "      <td>42.6001</td>\n",
       "      <td>-73.9662</td>\n",
       "      <td>281.87</td>\n",
       "      <td>283.15</td>\n",
       "      <td>32</td>\n",
       "      <td>5</td>\n",
       "      <td>3.58</td>\n",
       "    </tr>\n",
       "    <tr>\n",
       "      <th>4</th>\n",
       "      <td>Nikolskoye</td>\n",
       "      <td>59.7035</td>\n",
       "      <td>30.7861</td>\n",
       "      <td>277.96</td>\n",
       "      <td>278.71</td>\n",
       "      <td>81</td>\n",
       "      <td>90</td>\n",
       "      <td>2.00</td>\n",
       "    </tr>\n",
       "  </tbody>\n",
       "</table>\n",
       "</div>"
      ],
      "text/plain": [
       "           city      lat       lng    temp  max_temp  humidity  clouds  wind\n",
       "0       Husavik  66.0449  -17.3389  277.15    277.15        65       0  4.63\n",
       "1  Punta Arenas -53.1500  -70.9167  281.04    281.15        93      90  1.03\n",
       "2     Busselton -33.6500  115.3333  287.59    287.59        82     100  1.13\n",
       "3        Albany  42.6001  -73.9662  281.87    283.15        32       5  3.58\n",
       "4    Nikolskoye  59.7035   30.7861  277.96    278.71        81      90  2.00"
      ]
     },
     "execution_count": 54,
     "metadata": {},
     "output_type": "execute_result"
    }
   ],
   "source": [
    "lat = []\n",
    "lng = []\n",
    "temp = []\n",
    "humidity =[]\n",
    "clouds = []\n",
    "wind = []\n",
    "max_temp = []\n",
    "cities_ls = []\n",
    "\n",
    "for i in range(len(cities)):\n",
    "    url = 'http://api.openweathermap.org/data/2.5/weather?q='+cities[i]+'&appid='+weather_api_key\n",
    "    weather_response = requests.get(url)\n",
    "    weather_json = weather_response.json()\n",
    "    try:\n",
    "        lat.append(weather_json['coord']['lat'])\n",
    "        lng.append(weather_json['coord']['lon'])\n",
    "        temp.append(weather_json['main']['temp'])\n",
    "        humidity.append(weather_json['main']['humidity'])\n",
    "        clouds.append(weather_json['clouds']['all'])\n",
    "        wind.append(weather_json['wind']['speed'])\n",
    "        max_temp.append(weather_json['main']['temp_max'])\n",
    "        cities_ls.append(weather_json['name'])\n",
    "        print(f\"Processing Record {i} of | {cities[i]}\")\n",
    "    except:\n",
    "        print(\"City Data doesn't exist\")\n",
    "        \n",
    "weather_dict = {\n",
    "    \"city\": cities_ls,\n",
    "    \"lat\": lat,\n",
    "    \"lng\": lng,\n",
    "    \"temp\": temp,\n",
    "    \"max_temp\": max_temp,\n",
    "    \"humidity\": humidity,\n",
    "    \"clouds\": clouds,\n",
    "    \"wind\":wind\n",
    "}\n",
    "weather_data = pd.DataFrame(weather_dict)\n",
    "weather_data.head() "
   ]
  },
  {
   "cell_type": "code",
   "execution_count": 17,
   "metadata": {},
   "outputs": [
    {
     "name": "stdout",
     "output_type": "stream",
     "text": [
      "574\n",
      "574\n",
      "574\n",
      "615\n"
     ]
    }
   ],
   "source": [
    "print(len(lat))\n",
    "print(len(lng))\n",
    "print(len(temp))\n",
    "print(len(cities))"
   ]
  },
  {
   "cell_type": "markdown",
   "metadata": {},
   "source": [
    "### Convert Raw Data to DataFrame\n",
    "* Export the city data into a .csv.\n",
    "* Display the DataFrame"
   ]
  },
  {
   "cell_type": "code",
   "execution_count": 27,
   "metadata": {},
   "outputs": [],
   "source": [
    "weather_data.to_csv(\"Output/city_data.csv\", index=False, header=True)"
   ]
  },
  {
   "cell_type": "code",
   "execution_count": null,
   "metadata": {},
   "outputs": [],
   "source": []
  },
  {
   "cell_type": "markdown",
   "metadata": {},
   "source": [
    "## Inspect the data and remove the cities where the humidity > 100%.\n",
    "----\n",
    "Skip this step if there are no cities that have humidity > 100%. "
   ]
  },
  {
   "cell_type": "code",
   "execution_count": null,
   "metadata": {},
   "outputs": [],
   "source": []
  },
  {
   "cell_type": "code",
   "execution_count": 31,
   "metadata": {},
   "outputs": [
    {
     "data": {
      "text/html": [
       "<div>\n",
       "<style scoped>\n",
       "    .dataframe tbody tr th:only-of-type {\n",
       "        vertical-align: middle;\n",
       "    }\n",
       "\n",
       "    .dataframe tbody tr th {\n",
       "        vertical-align: top;\n",
       "    }\n",
       "\n",
       "    .dataframe thead th {\n",
       "        text-align: right;\n",
       "    }\n",
       "</style>\n",
       "<table border=\"1\" class=\"dataframe\">\n",
       "  <thead>\n",
       "    <tr style=\"text-align: right;\">\n",
       "      <th></th>\n",
       "      <th>city</th>\n",
       "      <th>lat</th>\n",
       "      <th>lng</th>\n",
       "      <th>temp</th>\n",
       "      <th>humidity</th>\n",
       "      <th>clouds</th>\n",
       "      <th>wind</th>\n",
       "    </tr>\n",
       "  </thead>\n",
       "  <tbody>\n",
       "  </tbody>\n",
       "</table>\n",
       "</div>"
      ],
      "text/plain": [
       "Empty DataFrame\n",
       "Columns: [city, lat, lng, temp, humidity, clouds, wind]\n",
       "Index: []"
      ]
     },
     "execution_count": 31,
     "metadata": {},
     "output_type": "execute_result"
    }
   ],
   "source": [
    "#  Get the indices of cities that have humidity over 100%.\n",
    "weather_humidityover100=weather_data.loc[weather_data['humidity'] >100,:]\n",
    "weather_humidityover100"
   ]
  },
  {
   "cell_type": "code",
   "execution_count": null,
   "metadata": {},
   "outputs": [],
   "source": [
    "# Make a new DataFrame equal to the city data to drop all humidity outliers by index.\n",
    "# Passing \"inplace=False\" will make a copy of the city_data DataFrame, which we call \"clean_city_data\".\n"
   ]
  },
  {
   "cell_type": "code",
   "execution_count": null,
   "metadata": {},
   "outputs": [],
   "source": [
    "\n"
   ]
  },
  {
   "cell_type": "markdown",
   "metadata": {},
   "source": [
    "## Plotting the Data\n",
    "* Use proper labeling of the plots using plot titles (including date of analysis) and axes labels.\n",
    "* Save the plotted figures as .pngs."
   ]
  },
  {
   "cell_type": "markdown",
   "metadata": {},
   "source": [
    "## Latitude vs. Temperature Plot"
   ]
  },
  {
   "cell_type": "code",
   "execution_count": 34,
   "metadata": {
    "scrolled": true
   },
   "outputs": [
    {
     "data": {
      "text/plain": [
       "<matplotlib.collections.PathCollection at 0x14618344100>"
      ]
     },
     "execution_count": 34,
     "metadata": {},
     "output_type": "execute_result"
    },
    {
     "data": {
      "image/png": "[encoded data removed]",
      "text/plain": [
       "<Figure size 432x288 with 1 Axes>"
      ]
     },
     "metadata": {
      "needs_background": "light"
     },
     "output_type": "display_data"
    }
   ],
   "source": [
    "plt.scatter(weather_data['lat'],weather_data['temp'])"
   ]
  },
  {
   "cell_type": "markdown",
   "metadata": {},
   "source": [
    "## Latitude vs. Humidity Plot"
   ]
  },
  {
   "cell_type": "code",
   "execution_count": 35,
   "metadata": {},
   "outputs": [
    {
     "data": {
      "text/plain": [
       "<matplotlib.collections.PathCollection at 0x146183aeca0>"
      ]
     },
     "execution_count": 35,
     "metadata": {},
     "output_type": "execute_result"
    },
    {
     "data": {
      "image/png": "[encoded data removed]",
      "text/plain": [
       "<Figure size 432x288 with 1 Axes>"
      ]
     },
     "metadata": {
      "needs_background": "light"
     },
     "output_type": "display_data"
    }
   ],
   "source": [
    "plt.scatter(weather_data['lat'],weather_data['humidity'])"
   ]
  },
  {
   "cell_type": "markdown",
   "metadata": {},
   "source": [
    "## Latitude vs. Cloudiness Plot"
   ]
  },
  {
   "cell_type": "code",
   "execution_count": 37,
   "metadata": {},
   "outputs": [
    {
     "data": {
      "text/plain": [
       "<matplotlib.collections.PathCollection at 0x146185a1fd0>"
      ]
     },
     "execution_count": 37,
     "metadata": {},
     "output_type": "execute_result"
    },
    {
     "data": {
      "image/png": "[encoded data removed]",
      "text/plain": [
       "<Figure size 432x288 with 1 Axes>"
      ]
     },
     "metadata": {
      "needs_background": "light"
     },
     "output_type": "display_data"
    }
   ],
   "source": [
    "plt.scatter(weather_data['lat'],weather_data['clouds'])"
   ]
  },
  {
   "cell_type": "markdown",
   "metadata": {},
   "source": [
    "## Latitude vs. Wind Speed Plot"
   ]
  },
  {
   "cell_type": "code",
   "execution_count": 38,
   "metadata": {},
   "outputs": [
    {
     "data": {
      "text/plain": [
       "<matplotlib.collections.PathCollection at 0x1461793c250>"
      ]
     },
     "execution_count": 38,
     "metadata": {},
     "output_type": "execute_result"
    },
    {
     "data": {
      "image/png": "[encoded data removed]",
      "text/plain": [
       "<Figure size 432x288 with 1 Axes>"
      ]
     },
     "metadata": {
      "needs_background": "light"
     },
     "output_type": "display_data"
    }
   ],
   "source": [
    "plt.scatter(weather_data['lat'],weather_data['wind'])"
   ]
  },
  {
   "cell_type": "markdown",
   "metadata": {},
   "source": [
    "## Linear Regression"
   ]
  },
  {
   "cell_type": "code",
   "execution_count": 43,
   "metadata": {},
   "outputs": [],
   "source": [
    "weather_data_nh = weather_data.loc[weather_data['lat']>=0,:]\n",
    "weather_data_sh = weather_data.loc[weather_data['lat']<0,:]"
   ]
  },
  {
   "cell_type": "markdown",
   "metadata": {},
   "source": [
    "####  Northern Hemisphere - Max Temp vs. Latitude Linear Regression"
   ]
  },
  {
   "cell_type": "code",
   "execution_count": 45,
   "metadata": {},
   "outputs": [
    {
     "data": {
      "text/plain": [
       "Text(0, 0.5, 'lat')"
      ]
     },
     "execution_count": 45,
     "metadata": {},
     "output_type": "execute_result"
    },
    {
     "data": {
      "image/png": "[encoded data removed]",
      "text/plain": [
       "<Figure size 432x288 with 1 Axes>"
      ]
     },
     "metadata": {
      "needs_background": "light"
     },
     "output_type": "display_data"
    }
   ],
   "source": [
    "plt.scatter(weather_data_nh['max_temp'],weather_data_nh['lat'])\n",
    "plt.xlabel('temp')\n",
    "plt.ylabel('lat')"
   ]
  },
  {
   "cell_type": "markdown",
   "metadata": {},
   "source": [
    "####  Southern Hemisphere - Max Temp vs. Latitude Linear Regression"
   ]
  },
  {
   "cell_type": "code",
   "execution_count": 46,
   "metadata": {},
   "outputs": [
    {
     "data": {
      "text/plain": [
       "<matplotlib.collections.PathCollection at 0x146178d8a30>"
      ]
     },
     "execution_count": 46,
     "metadata": {},
     "output_type": "execute_result"
    },
    {
     "data": {
      "image/png": "[encoded data removed]",
      "text/plain": [
       "<Figure size 432x288 with 1 Axes>"
      ]
     },
     "metadata": {
      "needs_background": "light"
     },
     "output_type": "display_data"
    }
   ],
   "source": [
    "plt.scatter(weather_data_sh['max_temp'],weather_data_sh['lat'])"
   ]
  },
  {
   "cell_type": "markdown",
   "metadata": {},
   "source": [
    "####  Northern Hemisphere - Humidity (%) vs. Latitude Linear Regression"
   ]
  },
  {
   "cell_type": "code",
   "execution_count": 50,
   "metadata": {},
   "outputs": [
    {
     "data": {
      "text/plain": [
       "<matplotlib.collections.PathCollection at 0x146181bc640>"
      ]
     },
     "execution_count": 50,
     "metadata": {},
     "output_type": "execute_result"
    },
    {
     "data": {
      "image/png": "[encoded data removed]",
      "text/plain": [
       "<Figure size 432x288 with 1 Axes>"
      ]
     },
     "metadata": {
      "needs_background": "light"
     },
     "output_type": "display_data"
    }
   ],
   "source": [
    "plt.scatter(weather_data_nh['humidity'],weather_data_nh['lat'])"
   ]
  },
  {
   "cell_type": "markdown",
   "metadata": {},
   "source": [
    "####  Southern Hemisphere - Humidity (%) vs. Latitude Linear Regression"
   ]
  },
  {
   "cell_type": "code",
   "execution_count": 49,
   "metadata": {},
   "outputs": [
    {
     "data": {
      "text/plain": [
       "<matplotlib.collections.PathCollection at 0x14618178ee0>"
      ]
     },
     "execution_count": 49,
     "metadata": {},
     "output_type": "execute_result"
    },
    {
     "data": {
      "image/png": "[encoded data removed]",
      "text/plain": [
       "<Figure size 432x288 with 1 Axes>"
      ]
     },
     "metadata": {
      "needs_background": "light"
     },
     "output_type": "display_data"
    }
   ],
   "source": [
    "plt.scatter(weather_data_sh['humidity'],weather_data_sh['lat'])"
   ]
  },
  {
   "cell_type": "markdown",
   "metadata": {},
   "source": [
    "####  Northern Hemisphere - Cloudiness (%) vs. Latitude Linear Regression"
   ]
  },
  {
   "cell_type": "code",
   "execution_count": 48,
   "metadata": {},
   "outputs": [
    {
     "data": {
      "text/plain": [
       "<matplotlib.collections.PathCollection at 0x1461869b1c0>"
      ]
     },
     "execution_count": 48,
     "metadata": {},
     "output_type": "execute_result"
    },
    {
     "data": {
      "image/png": "[encoded data removed]",
      "text/plain": [
       "<Figure size 432x288 with 1 Axes>"
      ]
     },
     "metadata": {
      "needs_background": "light"
     },
     "output_type": "display_data"
    }
   ],
   "source": [
    "plt.scatter(weather_data_nh['clouds'],weather_data_nh['lat'])"
   ]
  },
  {
   "cell_type": "markdown",
   "metadata": {},
   "source": [
    "####  Southern Hemisphere - Cloudiness (%) vs. Latitude Linear Regression"
   ]
  },
  {
   "cell_type": "code",
   "execution_count": 51,
   "metadata": {},
   "outputs": [
    {
     "data": {
      "text/plain": [
       "<matplotlib.collections.PathCollection at 0x146188f93d0>"
      ]
     },
     "execution_count": 51,
     "metadata": {},
     "output_type": "execute_result"
    },
    {
     "data": {
      "image/png": "[encoded data removed]",
      "text/plain": [
       "<Figure size 432x288 with 1 Axes>"
      ]
     },
     "metadata": {
      "needs_background": "light"
     },
     "output_type": "display_data"
    }
   ],
   "source": [
    "plt.scatter(weather_data_sh['clouds'],weather_data_sh['lat'])"
   ]
  },
  {
   "cell_type": "markdown",
   "metadata": {},
   "source": [
    "####  Northern Hemisphere - Wind Speed (mph) vs. Latitude Linear Regression"
   ]
  },
  {
   "cell_type": "code",
   "execution_count": 52,
   "metadata": {},
   "outputs": [
    {
     "data": {
      "text/plain": [
       "<matplotlib.collections.PathCollection at 0x1461892e970>"
      ]
     },
     "execution_count": 52,
     "metadata": {},
     "output_type": "execute_result"
    },
    {
     "data": {
      "image/png": "[encoded data removed]",
      "text/plain": [
       "<Figure size 432x288 with 1 Axes>"
      ]
     },
     "metadata": {
      "needs_background": "light"
     },
     "output_type": "display_data"
    }
   ],
   "source": [
    "plt.scatter(weather_data_nh['wind'],weather_data_nh['lat'])"
   ]
  },
  {
   "cell_type": "markdown",
   "metadata": {},
   "source": [
    "####  Southern Hemisphere - Wind Speed (mph) vs. Latitude Linear Regression"
   ]
  },
  {
   "cell_type": "code",
   "execution_count": 53,
   "metadata": {},
   "outputs": [
    {
     "data": {
      "text/plain": [
       "<matplotlib.collections.PathCollection at 0x1461896d5e0>"
      ]
     },
     "execution_count": 53,
     "metadata": {},
     "output_type": "execute_result"
    },
    {
     "data": {
      "image/png": "[encoded data removed]",
      "text/plain": [
       "<Figure size 432x288 with 1 Axes>"
      ]
     },
     "metadata": {
      "needs_background": "light"
     },
     "output_type": "display_data"
    }
   ],
   "source": [
    "plt.scatter(weather_data_sh['wind'],weather_data_sh['lat'])"
   ]
  },
  {
   "cell_type": "code",
   "execution_count": null,
   "metadata": {},
   "outputs": [],
   "source": []
  }
 ],
 "metadata": {
  "anaconda-cloud": {},
  "kernel_info": {
   "name": "python3"
  },
  "kernelspec": {
   "display_name": "PythonData",
   "language": "python",
   "name": "pythondata"
  },
  "language_info": {
   "codemirror_mode": {
    "name": "ipython",
    "version": 3
   },
   "file_extension": ".py",
   "mimetype": "text/x-python",
   "name": "python",
   "nbconvert_exporter": "python",
   "pygments_lexer": "ipython3",
   "version": "3.8.5"
  },
  "latex_envs": {
   "LaTeX_envs_menu_present": true,
   "autoclose": false,
   "autocomplete": true,
   "bibliofile": "biblio.bib",
   "cite_by": "apalike",
   "current_citInitial": 1,
   "eqLabelWithNumbers": true,
   "eqNumInitial": 1,
   "hotkeys": {
    "equation": "Ctrl-E",
    "itemize": "Ctrl-I"
   },
   "labels_anchors": false,
   "latex_user_defs": false,
   "report_style_numbering": false,
   "user_envs_cfg": false
  },
  "nteract": {
   "version": "0.12.3"
  }
 },
 "nbformat": 4,
 "nbformat_minor": 2
}
